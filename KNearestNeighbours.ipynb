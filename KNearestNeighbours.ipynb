{
 "cells": [
  {
   "cell_type": "code",
   "execution_count": 22,
   "metadata": {
    "collapsed": true,
    "deletable": true,
    "editable": true
   },
   "outputs": [],
   "source": [
    "from time import time \n",
    "\n",
    "import pandas as pd\n",
    "import numpy as np\n",
    "import cv2\n",
    "from sklearn.model_selection import train_test_split\n",
    "\n",
    "from sklearn.neighbors import KNeighborsClassifier\n",
    "\n"
   ]
  },
  {
   "cell_type": "code",
   "execution_count": 32,
   "metadata": {
    "collapsed": false,
    "deletable": true,
    "editable": true
   },
   "outputs": [],
   "source": [
    "image_list = pd.read_csv('./stat442project/driver_imgs_list.csv')\n",
    "train_subject_subset = image_list.subject.value_counts()[-9:].index.values\n",
    "test_subject_subset = image_list.subject.value_counts()[:-9].index.values\n",
    "train_image_list = image_list[image_list.subject.isin(train_subject_subset)].reset_index(drop=True)\n",
    "test_image_list = image_list[image_list.subject.isin(test_subject_subset)].reset_index(drop=True)\n"
   ]
  },
  {
   "cell_type": "code",
   "execution_count": 24,
   "metadata": {
    "collapsed": false,
    "deletable": true,
    "editable": true
   },
   "outputs": [
    {
     "name": "stdout",
     "output_type": "stream",
     "text": [
      "Completed 1 of 5966 images (0 %).\n",
      "Completed 501 of 5966 images (0 %).\n",
      "Completed 1001 of 5966 images (0 %).\n",
      "Completed 1501 of 5966 images (0 %).\n",
      "Completed 2001 of 5966 images (0 %).\n",
      "Completed 2501 of 5966 images (0 %).\n",
      "Completed 3001 of 5966 images (0 %).\n",
      "Completed 3501 of 5966 images (0 %).\n",
      "Completed 4001 of 5966 images (0 %).\n",
      "Completed 4501 of 5966 images (0 %).\n",
      "Completed 5001 of 5966 images (0 %).\n",
      "Completed 5501 of 5966 images (0 %).\n"
     ]
    }
   ],
   "source": [
    "h, w = 96,128\n",
    "train_greyscale_image_matrix = np.zeros((h*w, train_image_list.shape[0]), dtype=np.uint8)\n",
    "nitems = train_image_list.shape[0]\n",
    "for i, n in train_image_list.iterrows():\n",
    "    img_path = './resized_train/' + n.classname + '/' + n.img\n",
    "    img = cv2.imread(img_path, 0) # Read as greyscale\n",
    "    train_greyscale_image_matrix[:, i] = img.reshape(h*w)\n",
    "    if (i % 500 == 0):\n",
    "        print('Completed {} of {} images ({} %).'.format(i+1, nitems, (i+1)*100/nitems))"
   ]
  },
  {
   "cell_type": "code",
   "execution_count": 37,
   "metadata": {
    "collapsed": false,
    "deletable": true,
    "editable": true
   },
   "outputs": [
    {
     "name": "stdout",
     "output_type": "stream",
     "text": [
      "Completed 1 of 16458 images (0 %).\n",
      "Completed 501 of 16458 images (3 %).\n",
      "Completed 1001 of 16458 images (6 %).\n",
      "Completed 1501 of 16458 images (9 %).\n",
      "Completed 2001 of 16458 images (12 %).\n",
      "Completed 2501 of 16458 images (15 %).\n",
      "Completed 3001 of 16458 images (18 %).\n",
      "Completed 3501 of 16458 images (21 %).\n",
      "Completed 4001 of 16458 images (24 %).\n",
      "Completed 4501 of 16458 images (27 %).\n",
      "Completed 5001 of 16458 images (30 %).\n",
      "Completed 5501 of 16458 images (33 %).\n",
      "Completed 6001 of 16458 images (36 %).\n",
      "Completed 6501 of 16458 images (39 %).\n",
      "Completed 7001 of 16458 images (42 %).\n",
      "Completed 7501 of 16458 images (45 %).\n",
      "Completed 8001 of 16458 images (48 %).\n",
      "Completed 8501 of 16458 images (51 %).\n",
      "Completed 9001 of 16458 images (54 %).\n",
      "Completed 9501 of 16458 images (57 %).\n",
      "Completed 10001 of 16458 images (60 %).\n",
      "Completed 10501 of 16458 images (63 %).\n",
      "Completed 11001 of 16458 images (66 %).\n",
      "Completed 11501 of 16458 images (69 %).\n",
      "Completed 12001 of 16458 images (72 %).\n",
      "Completed 12501 of 16458 images (75 %).\n",
      "Completed 13001 of 16458 images (78 %).\n",
      "Completed 13501 of 16458 images (82 %).\n",
      "Completed 14001 of 16458 images (85 %).\n",
      "Completed 14501 of 16458 images (88 %).\n",
      "Completed 15001 of 16458 images (91 %).\n",
      "Completed 15501 of 16458 images (94 %).\n",
      "Completed 16001 of 16458 images (97 %).\n"
     ]
    }
   ],
   "source": [
    "test_greyscale_image_matrix = np.zeros((h*w, test_image_list.shape[0]), dtype=np.uint8)\n",
    "nitems = test_image_list.shape[0]\n",
    "for i, n in test_image_list.iterrows():\n",
    "    img_path = './resized_train/' + n.classname + '/' + n.img\n",
    "    img = cv2.imread(img_path, 0) # Read as greyscale\n",
    "    test_greyscale_image_matrix[:, i] = img.reshape(h*w)\n",
    "    if (i % 500 == 0):\n",
    "        print('Completed {} of {} images ({} %).'.format(i+1, nitems, (i+1)*100/nitems))"
   ]
  },
  {
   "cell_type": "code",
   "execution_count": 42,
   "metadata": {
    "collapsed": true,
    "deletable": true,
    "editable": true
   },
   "outputs": [],
   "source": [
    "X_train = train_greyscale_image_matrix.T\n",
    "y_train = train_image_list.classname\n",
    "X_test = test_greyscale_image_matrix.T\n",
    "y_test = test_image_list.classname"
   ]
  },
  {
   "cell_type": "code",
   "execution_count": 43,
   "metadata": {
    "collapsed": true,
    "deletable": true,
    "editable": true
   },
   "outputs": [],
   "source": [
    "neigh = KNeighborsClassifier(n_neighbors=3, n_jobs=4)"
   ]
  },
  {
   "cell_type": "code",
   "execution_count": 44,
   "metadata": {
    "collapsed": false,
    "deletable": true,
    "editable": true
   },
   "outputs": [
    {
     "name": "stdout",
     "output_type": "stream",
     "text": [
      "done in 8.6522500515s\n"
     ]
    }
   ],
   "source": [
    "t0 = time()\n",
    "neigh.fit(X_train, y_train)\n",
    "print(\"done in {}s\".format(time() - t0))"
   ]
  },
  {
   "cell_type": "code",
   "execution_count": 45,
   "metadata": {
    "collapsed": false,
    "deletable": true,
    "editable": true
   },
   "outputs": [
    {
     "name": "stdout",
     "output_type": "stream",
     "text": [
      "done in 1092.934865s\n"
     ]
    }
   ],
   "source": [
    "t0 = time()\n",
    "score = neigh.score(X_test, y_test)\n",
    "print(\"done in {}s\".format(time() - t0))"
   ]
  },
  {
   "cell_type": "code",
   "execution_count": 46,
   "metadata": {
    "collapsed": false,
    "deletable": true,
    "editable": true
   },
   "outputs": [
    {
     "data": {
      "text/plain": [
       "0.23496172074371127"
      ]
     },
     "execution_count": 46,
     "metadata": {},
     "output_type": "execute_result"
    }
   ],
   "source": [
    "score"
   ]
  },
  {
   "cell_type": "code",
   "execution_count": 27,
   "metadata": {
    "collapsed": false,
    "deletable": true,
    "editable": true
   },
   "outputs": [
    {
     "data": {
      "text/plain": [
       "p021    1237\n",
       "p022    1233\n",
       "p024    1226\n",
       "p026    1196\n",
       "p016    1078\n",
       "p066    1034\n",
       "p049    1011\n",
       "p051     920\n",
       "p014     876\n",
       "p015     875\n",
       "p035     848\n",
       "p047     835\n",
       "p081     823\n",
       "p012     823\n",
       "p064     820\n",
       "p075     814\n",
       "p061     809\n",
       "Name: subject, dtype: int64"
      ]
     },
     "execution_count": 27,
     "metadata": {},
     "output_type": "execute_result"
    }
   ],
   "source": [
    "test_subject_subset"
   ]
  },
  {
   "cell_type": "code",
   "execution_count": 31,
   "metadata": {
    "collapsed": false,
    "deletable": true,
    "editable": true
   },
   "outputs": [
    {
     "data": {
      "text/plain": [
       "0        False\n",
       "1        False\n",
       "2        False\n",
       "3        False\n",
       "4        False\n",
       "5        False\n",
       "6        False\n",
       "7        False\n",
       "8        False\n",
       "9        False\n",
       "10       False\n",
       "11       False\n",
       "12       False\n",
       "13       False\n",
       "14       False\n",
       "15       False\n",
       "16       False\n",
       "17       False\n",
       "18       False\n",
       "19       False\n",
       "20       False\n",
       "21       False\n",
       "22       False\n",
       "23       False\n",
       "24       False\n",
       "25       False\n",
       "26       False\n",
       "27       False\n",
       "28       False\n",
       "29       False\n",
       "         ...  \n",
       "22394    False\n",
       "22395    False\n",
       "22396    False\n",
       "22397    False\n",
       "22398    False\n",
       "22399    False\n",
       "22400    False\n",
       "22401    False\n",
       "22402    False\n",
       "22403    False\n",
       "22404    False\n",
       "22405    False\n",
       "22406    False\n",
       "22407    False\n",
       "22408    False\n",
       "22409    False\n",
       "22410    False\n",
       "22411    False\n",
       "22412    False\n",
       "22413    False\n",
       "22414    False\n",
       "22415    False\n",
       "22416    False\n",
       "22417    False\n",
       "22418    False\n",
       "22419    False\n",
       "22420    False\n",
       "22421    False\n",
       "22422    False\n",
       "22423    False\n",
       "Name: subject, dtype: bool"
      ]
     },
     "execution_count": 31,
     "metadata": {},
     "output_type": "execute_result"
    }
   ],
   "source": [
    "image_list.subject.isin(test_subject_subset)"
   ]
  },
  {
   "cell_type": "code",
   "execution_count": 36,
   "metadata": {
    "collapsed": false,
    "deletable": true,
    "editable": true
   },
   "outputs": [
    {
     "data": {
      "text/plain": [
       "10"
      ]
     },
     "execution_count": 36,
     "metadata": {},
     "output_type": "execute_result"
    }
   ],
   "source": [
    "100/10"
   ]
  },
  {
   "cell_type": "code",
   "execution_count": null,
   "metadata": {
    "collapsed": true,
    "deletable": true,
    "editable": true
   },
   "outputs": [],
   "source": []
  }
 ],
 "metadata": {
  "kernelspec": {
   "display_name": "Python 2",
   "language": "python",
   "name": "python2"
  },
  "language_info": {
   "codemirror_mode": {
    "name": "ipython",
    "version": 2
   },
   "file_extension": ".py",
   "mimetype": "text/x-python",
   "name": "python",
   "nbconvert_exporter": "python",
   "pygments_lexer": "ipython2",
   "version": "2.7.12"
  }
 },
 "nbformat": 4,
 "nbformat_minor": 2
}
