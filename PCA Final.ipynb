{
 "cells": [
  {
   "cell_type": "code",
   "execution_count": 1,
   "metadata": {
    "collapsed": true,
    "deletable": true,
    "editable": true
   },
   "outputs": [],
   "source": [
    "from time import time \n",
    "\n",
    "import pandas as pd\n",
    "import numpy as np\n",
    "import cv2\n",
    "import pickle\n",
    "from sklearn.model_selection import train_test_split\n",
    "import matplotlib.pyplot as plt\n",
    "from skimage import filters\n",
    "\n",
    "from sklearn.neighbors import KNeighborsClassifier\n",
    "\n",
    "%matplotlib inline"
   ]
  },
  {
   "cell_type": "code",
   "execution_count": 4,
   "metadata": {
    "collapsed": true,
    "deletable": true,
    "editable": true
   },
   "outputs": [],
   "source": [
    "class_mapper = {\n",
    "    'c0': 'Both hands on wheel',\n",
    "    'c1': 'Using cell (right)',\n",
    "    'c2': 'Talking cell (right)',\n",
    "    'c3': 'Using cell (left)',\n",
    "    'c4': 'Talking cell (left)',\n",
    "    'c5': 'Adjusting radio',\n",
    "    'c6': 'Drinking coffee',\n",
    "    'c7': 'Reaching back',\n",
    "    'c8': 'Touching head/neck',\n",
    "    'c9': 'Eyes off the road',\n",
    "}"
   ]
  },
  {
   "cell_type": "code",
   "execution_count": 44,
   "metadata": {
    "collapsed": false,
    "deletable": true,
    "editable": true
   },
   "outputs": [],
   "source": [
    "image_list = pd.read_csv('./stat442project/driver_imgs_list.csv')\n",
    "#train_subject_subset = image_list.subject.value_counts().index.values\n",
    "#test_subject_subset = image_list.subject.value_counts()[:-9].index.values\n",
    "#train_image_list = image_list[image_list.subject.isin(train_subject_subset)].reset_index(drop=True)\n",
    "#test_image_list = image_list[image_list.subject.isin(test_subject_subset)].reset_index(drop=True)\n"
   ]
  },
  {
   "cell_type": "code",
   "execution_count": 6,
   "metadata": {
    "collapsed": false,
    "deletable": true,
    "editable": true,
    "scrolled": true
   },
   "outputs": [
    {
     "data": {
      "text/plain": [
       "\"\\ntrain_greyscale_image_matrix = np.zeros((image_list.shape[0], h*w), dtype=np.uint8)\\nnitems = image_list.shape[0]\\nfor i, n in image_list.iterrows():\\n    img_path = './resized_train/' + n.classname + '/' + n.img\\n    img = cv2.imread(img_path, 0) # Read as greyscale\\n    train_greyscale_image_matrix[i, :] = img.reshape(h*w)\\n    if (i % 500 == 0):\\n        print('Completed {} of {} images ({} %).'.format(i+1, nitems, (i+1)*100/nitems))\\n\""
      ]
     },
     "execution_count": 6,
     "metadata": {},
     "output_type": "execute_result"
    }
   ],
   "source": [
    "h, w = 96,128\n",
    "train_greyscale_image_matrix = np.load('train_greyscale.npy')\n",
    "\"\"\"\n",
    "train_greyscale_image_matrix = np.zeros((image_list.shape[0], h*w), dtype=np.uint8)\n",
    "nitems = image_list.shape[0]\n",
    "for i, n in image_list.iterrows():\n",
    "    img_path = './resized_train/' + n.classname + '/' + n.img\n",
    "    img = cv2.imread(img_path, 0) # Read as greyscale\n",
    "    train_greyscale_image_matrix[i, :] = img.reshape(h*w)\n",
    "    if (i % 500 == 0):\n",
    "        print('Completed {} of {} images ({} %).'.format(i+1, nitems, (i+1)*100/nitems))\n",
    "\"\"\""
   ]
  },
  {
   "cell_type": "code",
   "execution_count": 7,
   "metadata": {
    "collapsed": false,
    "deletable": true,
    "editable": true
   },
   "outputs": [
    {
     "data": {
      "text/plain": [
       "\"\\ntest_images = !ls resized_test/\\nn_items = len(test_images)\\ntest_greyscale_image_matrix = np.zeros((n_items, h*w), dtype=np.uint8)\\n\\nfor i, n in enumerate(test_images):\\n    img_path = './resized_test/' + n\\n    img = cv2.imread(img_path, 0) # Read as greyscale\\n    test_greyscale_image_matrix[i, :] = img.reshape(h*w)\\n    if (i % 500 == 0):\\n        print('Completed {} of {} images ({} %).'.format(i+1, nitems, (i+1)*100/nitems))\\n\""
      ]
     },
     "execution_count": 7,
     "metadata": {},
     "output_type": "execute_result"
    }
   ],
   "source": [
    "test_greyscale_image_matrix = np.load('test_greyscale.npy')\n",
    "\"\"\"\n",
    "test_images = !ls resized_test/\n",
    "n_items = len(test_images)\n",
    "test_greyscale_image_matrix = np.zeros((n_items, h*w), dtype=np.uint8)\n",
    "\n",
    "for i, n in enumerate(test_images):\n",
    "    img_path = './resized_test/' + n\n",
    "    img = cv2.imread(img_path, 0) # Read as greyscale\n",
    "    test_greyscale_image_matrix[i, :] = img.reshape(h*w)\n",
    "    if (i % 500 == 0):\n",
    "        print('Completed {} of {} images ({} %).'.format(i+1, nitems, (i+1)*100/nitems))\n",
    "\"\"\""
   ]
  },
  {
   "cell_type": "code",
   "execution_count": 8,
   "metadata": {
    "collapsed": false,
    "deletable": true,
    "editable": true
   },
   "outputs": [],
   "source": [
    "X_train = train_greyscale_image_matrix # Transpose if not loading .npy array\n",
    "y_train = image_list.classname\n",
    "X_test = test_greyscale_image_matrix # Transpose if not loading .npy array"
   ]
  },
  {
   "cell_type": "code",
   "execution_count": 9,
   "metadata": {
    "collapsed": true,
    "deletable": true,
    "editable": true
   },
   "outputs": [],
   "source": [
    "from sklearn.decomposition import PCA"
   ]
  },
  {
   "cell_type": "code",
   "execution_count": 9,
   "metadata": {
    "collapsed": true,
    "deletable": true,
    "editable": true
   },
   "outputs": [],
   "source": [
    "pca = PCA(n_components=300)"
   ]
  },
  {
   "cell_type": "code",
   "execution_count": 10,
   "metadata": {
    "collapsed": false,
    "deletable": true,
    "editable": true,
    "scrolled": true
   },
   "outputs": [],
   "source": [
    "#t0 = time()\n",
    "#pca.fit(X_train)\n",
    "#print(\"done in {}s\".format(time() - t0))\n",
    "\n",
    "pca = pickle.load(open('final_pca_model.sav', 'rb'))"
   ]
  },
  {
   "cell_type": "code",
   "execution_count": 11,
   "metadata": {
    "collapsed": true,
    "deletable": true,
    "editable": true
   },
   "outputs": [],
   "source": [
    "filename = 'final_pca_model.sav'\n",
    "pickle.dump(pca, open(filename, 'wb'))"
   ]
  },
  {
   "cell_type": "code",
   "execution_count": 13,
   "metadata": {
    "collapsed": false,
    "deletable": true,
    "editable": true
   },
   "outputs": [
    {
     "name": "stdout",
     "output_type": "stream",
     "text": [
      "done in 320.841305017s\n"
     ]
    }
   ],
   "source": [
    "t0 = time()\n",
    "X_train_PCA = pca.transform(X_train)\n",
    "print(\"done in {}s\".format(time() - t0))\n"
   ]
  },
  {
   "cell_type": "code",
   "execution_count": 16,
   "metadata": {
    "collapsed": false,
    "deletable": true,
    "editable": true
   },
   "outputs": [],
   "source": [
    "np.save('X_train_PCA', X_train_PCA)"
   ]
  },
  {
   "cell_type": "code",
   "execution_count": 17,
   "metadata": {
    "collapsed": false,
    "deletable": true,
    "editable": true
   },
   "outputs": [],
   "source": [
    "#t0 = time()\n",
    "#X_test_PCA = pca.transform(X_test)\n",
    "#print(\"done in {}s\".format(time() - t0))\n",
    "\n",
    "X_test_PCA = np.load('X_test_PCA.npy')\n"
   ]
  },
  {
   "cell_type": "code",
   "execution_count": 18,
   "metadata": {
    "collapsed": true,
    "deletable": true,
    "editable": true
   },
   "outputs": [],
   "source": [
    "np.save('X_test_PCA', X_test_PCA)"
   ]
  },
  {
   "cell_type": "code",
   "execution_count": 19,
   "metadata": {
    "collapsed": true,
    "deletable": true,
    "editable": true
   },
   "outputs": [],
   "source": [
    "neigh = KNeighborsClassifier(n_neighbors=5, n_jobs=4)"
   ]
  },
  {
   "cell_type": "code",
   "execution_count": 20,
   "metadata": {
    "collapsed": false,
    "deletable": true,
    "editable": true
   },
   "outputs": [
    {
     "name": "stdout",
     "output_type": "stream",
     "text": [
      "done in 0.473508834839s\n"
     ]
    }
   ],
   "source": [
    "t0 = time()\n",
    "neigh.fit(X_train_PCA, y_train)\n",
    "print(\"done in {}s\".format(time() - t0))"
   ]
  },
  {
   "cell_type": "code",
   "execution_count": null,
   "metadata": {
    "collapsed": true,
    "deletable": true,
    "editable": true
   },
   "outputs": [],
   "source": [
    "filename = 'final_5nn_model.sav'\n",
    "pickle.dump(neigh, open(filename, 'wb'))"
   ]
  },
  {
   "cell_type": "code",
   "execution_count": 21,
   "metadata": {
    "collapsed": false,
    "deletable": true,
    "editable": true
   },
   "outputs": [
    {
     "name": "stdout",
     "output_type": "stream",
     "text": [
      "done in 451.90060091s\n"
     ]
    }
   ],
   "source": [
    "t0 = time()\n",
    "probabilities = neigh.predict_proba(X_test_PCA)\n",
    "print(\"done in {}s\".format(time() - t0))"
   ]
  },
  {
   "cell_type": "code",
   "execution_count": null,
   "metadata": {
    "collapsed": true,
    "deletable": true,
    "editable": true
   },
   "outputs": [],
   "source": [
    "np.save('PCA_probabilities_5nn.np', probabilities)"
   ]
  },
  {
   "cell_type": "code",
   "execution_count": 22,
   "metadata": {
    "collapsed": false,
    "deletable": true,
    "editable": true
   },
   "outputs": [],
   "source": [
    "np.savetxt(\"PCA_submission.csv\", probabilities, delimiter=\",\", header=\"img,c0,c1,c2,c3,c4,c5,c6,c7,c8,c9\")\n"
   ]
  },
  {
   "cell_type": "code",
   "execution_count": 1,
   "metadata": {
    "collapsed": false,
    "deletable": true,
    "editable": true
   },
   "outputs": [
    {
     "ename": "NameError",
     "evalue": "name 'pca' is not defined",
     "output_type": "error",
     "traceback": [
      "\u001b[0;31m---------------------------------------------------------------------------\u001b[0m",
      "\u001b[0;31mNameError\u001b[0m                                 Traceback (most recent call last)",
      "\u001b[0;32m<ipython-input-1-ffd5a2156f72>\u001b[0m in \u001b[0;36m<module>\u001b[0;34m()\u001b[0m\n\u001b[1;32m      1\u001b[0m \u001b[0;31m## Visualizing principal components\u001b[0m\u001b[0;34m\u001b[0m\u001b[0;34m\u001b[0m\u001b[0m\n\u001b[1;32m      2\u001b[0m \u001b[0;34m\u001b[0m\u001b[0m\n\u001b[0;32m----> 3\u001b[0;31m \u001b[0mcomp\u001b[0m \u001b[0;34m=\u001b[0m \u001b[0mpca\u001b[0m\u001b[0;34m.\u001b[0m\u001b[0mcomponents_\u001b[0m\u001b[0;34m[\u001b[0m\u001b[0;36m4\u001b[0m\u001b[0;34m,\u001b[0m\u001b[0;34m:\u001b[0m\u001b[0;34m]\u001b[0m\u001b[0;34m.\u001b[0m\u001b[0mreshape\u001b[0m\u001b[0;34m(\u001b[0m\u001b[0mh\u001b[0m\u001b[0;34m,\u001b[0m\u001b[0mw\u001b[0m\u001b[0;34m)\u001b[0m\u001b[0;34m\u001b[0m\u001b[0m\n\u001b[0m\u001b[1;32m      4\u001b[0m \u001b[0mcv2\u001b[0m\u001b[0;34m.\u001b[0m\u001b[0mimshow\u001b[0m\u001b[0;34m(\u001b[0m\u001b[0;34m'image'\u001b[0m\u001b[0;34m,\u001b[0m \u001b[0mcv2\u001b[0m\u001b[0;34m.\u001b[0m\u001b[0mresize\u001b[0m\u001b[0;34m(\u001b[0m\u001b[0mcomp\u001b[0m\u001b[0;34m,\u001b[0m \u001b[0mdsize\u001b[0m\u001b[0;34m=\u001b[0m\u001b[0;34m(\u001b[0m\u001b[0mw\u001b[0m\u001b[0;34m*\u001b[0m\u001b[0;36m5\u001b[0m\u001b[0;34m,\u001b[0m\u001b[0mh\u001b[0m\u001b[0;34m*\u001b[0m\u001b[0;36m5\u001b[0m\u001b[0;34m)\u001b[0m\u001b[0;34m)\u001b[0m\u001b[0;34m*\u001b[0m\u001b[0;36m100\u001b[0m\u001b[0;34m)\u001b[0m\u001b[0;34m\u001b[0m\u001b[0m\n\u001b[1;32m      5\u001b[0m \u001b[0mcv2\u001b[0m\u001b[0;34m.\u001b[0m\u001b[0mwaitKey\u001b[0m\u001b[0;34m(\u001b[0m\u001b[0;36m0\u001b[0m\u001b[0;34m)\u001b[0m\u001b[0;34m\u001b[0m\u001b[0m\n",
      "\u001b[0;31mNameError\u001b[0m: name 'pca' is not defined"
     ]
    }
   ],
   "source": [
    "## Visualizing principal components\n",
    "\n",
    "comp = pca.components_[4,:].reshape(h,w)\n",
    "cv2.imshow('image', cv2.resize(comp, dsize=(w*5,h*5))*100)\n",
    "cv2.waitKey(0)\n"
   ]
  }
 ],
 "metadata": {
  "kernelspec": {
   "display_name": "Python 2",
   "language": "python",
   "name": "python2"
  },
  "language_info": {
   "codemirror_mode": {
    "name": "ipython",
    "version": 2
   },
   "file_extension": ".py",
   "mimetype": "text/x-python",
   "name": "python",
   "nbconvert_exporter": "python",
   "pygments_lexer": "ipython2",
   "version": "2.7.12"
  }
 },
 "nbformat": 4,
 "nbformat_minor": 2
}
