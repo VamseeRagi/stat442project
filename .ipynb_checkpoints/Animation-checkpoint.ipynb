{
 "cells": [
  {
   "cell_type": "code",
   "execution_count": 1,
   "metadata": {
    "collapsed": false,
    "deletable": true,
    "editable": true
   },
   "outputs": [],
   "source": [
    "import numpy as np\n",
    "import pandas as pd\n",
    "import cv2\n",
    "import matplotlib.pyplot as plt\n",
    "import sys\n",
    "from skimage import io, transform\n",
    "import matplotlib.animation as animation"
   ]
  },
  {
   "cell_type": "code",
   "execution_count": 2,
   "metadata": {
    "collapsed": true,
    "deletable": true,
    "editable": true
   },
   "outputs": [],
   "source": [
    "train = pd.read_csv('driver_imgs_list.csv' )\n",
    "train['id'] = range( train.shape[0] )\n",
    "fig = plt.figure()\n",
    "subj = np.unique( train['subject'])[0]"
   ]
  },
  {
   "cell_type": "code",
   "execution_count": 6,
   "metadata": {
    "collapsed": false,
    "deletable": true,
    "editable": true
   },
   "outputs": [
    {
     "name": "stdout",
     "output_type": "stream",
     "text": [
      "('Writing:', 'MOVIE_subject_p035.gif')\n",
      "DONE!\n"
     ]
    }
   ],
   "source": [
    "for subj in np.unique( train['subject'])[9:10]:\n",
    "\n",
    "    imagem = train[ train['subject']==subj ]\n",
    "    \n",
    "    imgs = []\n",
    "    t = imagem.values[0]\n",
    "    for t in imagem.values:\n",
    "        img = cv2.imread('../train/'+t[1]+'/'+t[2],1)\n",
    "        img = cv2.resize(img, (800, 600))\n",
    "        img = cv2.cvtColor(img, cv2.COLOR_BGR2RGB)\n",
    "        imgs.append( img )\n",
    "        \n",
    "    ax = fig.add_subplot(111)\n",
    "    ax.set_axis_off()\n",
    "    fig.subplots_adjust(left=0, bottom=0, right=1, top=1,wspace=None, hspace=None)  # removes white border\n",
    "    fname = 'MOVIE_subject_'+subj+'.gif'\n",
    "    imgs = [ (ax.imshow(img), \n",
    "              ax.set_title(t[0]), \n",
    "              ax.annotate(n_img,(5,5))) for n_img, img in enumerate(imgs) ] \n",
    "    img_anim = animation.ArtistAnimation(fig, imgs, interval=125, \n",
    "                                repeat_delay=1000, blit=False)\n",
    "    print('Writing:', fname)\n",
    "    img_anim.save(fname, writer='imagemagick', dpi=20)\n",
    "    fig.clf()\n",
    "print('DONE!')"
   ]
  },
  {
   "cell_type": "code",
   "execution_count": null,
   "metadata": {
    "collapsed": true,
    "deletable": true,
    "editable": true
   },
   "outputs": [],
   "source": []
  }
 ],
 "metadata": {
  "kernelspec": {
   "display_name": "Python 2",
   "language": "python",
   "name": "python2"
  },
  "language_info": {
   "codemirror_mode": {
    "name": "ipython",
    "version": 2
   },
   "file_extension": ".py",
   "mimetype": "text/x-python",
   "name": "python",
   "nbconvert_exporter": "python",
   "pygments_lexer": "ipython2",
   "version": "2.7.12"
  }
 },
 "nbformat": 4,
 "nbformat_minor": 2
}
